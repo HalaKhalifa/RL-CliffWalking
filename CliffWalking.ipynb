{
 "cells": [
  {
   "cell_type": "markdown",
   "id": "8ff5e08c",
   "metadata": {},
   "source": [
    "# Cliff Walking "
   ]
  },
  {
   "cell_type": "markdown",
   "id": "8ee959b2",
   "metadata": {},
   "source": [
    "### Setup the environment "
   ]
  },
  {
   "cell_type": "code",
   "execution_count": 1,
   "id": "fdc04eff",
   "metadata": {},
   "outputs": [
    {
     "name": "stdout",
     "output_type": "stream",
     "text": [
      "o  o  o  o  o  o  o  o  o  o  x  o\n",
      "o  o  o  o  o  o  o  o  o  o  o  o\n",
      "o  o  o  o  o  o  o  o  o  o  o  o\n",
      "o  C  C  C  C  C  C  C  C  C  C  T\n",
      "\n"
     ]
    }
   ],
   "source": [
    "import gym\n",
    "import random\n",
    "\n",
    "myenv = gym.make(\"CliffWalking-v0\")\n",
    "\n",
    "# Optional step\n",
    "num_rows = 4  # Number of rows in the environment grid\n",
    "num_cols = 12  # Number of columns in the environment grid\n",
    "cliff_indexes = [37, 38, 39, 40, 41, 42, 43, 44, 45, 46, 47, 48]  # Cliff positions\n",
    "valid_states = [state for state in range(myenv.observation_space.n) if state not in cliff_indexes]\n",
    "initial_state = random.choice(valid_states)\n",
    "myenv.s = initial_state\n",
    "\n",
    "myenv.render()"
   ]
  },
  {
   "cell_type": "markdown",
   "id": "f1a34b40",
   "metadata": {},
   "source": [
    "### Initial state "
   ]
  },
  {
   "cell_type": "code",
   "execution_count": 2,
   "id": "05fdd932",
   "metadata": {},
   "outputs": [
    {
     "name": "stdout",
     "output_type": "stream",
     "text": [
      "o  o  o  o  o  o  o  o  o  o  o  o\n",
      "o  o  o  o  o  o  o  o  o  o  o  o\n",
      "o  o  o  o  o  o  o  o  o  o  o  o\n",
      "x  C  C  C  C  C  C  C  C  C  C  T\n",
      "\n"
     ]
    }
   ],
   "source": [
    "x_row = 3\n",
    "x_col = 0\n",
    "initial_state = x_row * num_cols + x_col\n",
    "myenv.s = initial_state\n",
    "myenv.render()"
   ]
  },
  {
   "cell_type": "markdown",
   "id": "dc474b65",
   "metadata": {},
   "source": [
    "### Verify that the q_table size is correct"
   ]
  },
  {
   "cell_type": "code",
   "execution_count": 3,
   "id": "031ce9f9",
   "metadata": {},
   "outputs": [
    {
     "data": {
      "text/plain": [
       "192"
      ]
     },
     "execution_count": 3,
     "metadata": {},
     "output_type": "execute_result"
    }
   ],
   "source": [
    "import numpy as np\n",
    "q_table = np.zeros([myenv.observation_space.n, myenv.action_space.n]) # 48 , 4 \n",
    "q_table.size"
   ]
  },
  {
   "cell_type": "markdown",
   "id": "3ca90cba",
   "metadata": {},
   "source": [
    "### Training  \n",
    "##### with the Initial values of learning_rate, discount_factor, exploration & epochs"
   ]
  },
  {
   "cell_type": "code",
   "execution_count": 4,
   "id": "4154ba49",
   "metadata": {},
   "outputs": [
    {
     "name": "stdout",
     "output_type": "stream",
     "text": [
      "Episode: 0 , Total Reward: -355 , Steps : 157\n",
      "Episode: 1000 , Total Reward: -13 , Steps : 13\n",
      "Episode: 2000 , Total Reward: -13 , Steps : 13\n",
      "Episode: 3000 , Total Reward: -433 , Steps : 37\n",
      "Episode: 4000 , Total Reward: -125 , Steps : 26\n",
      "Episode: 5000 , Total Reward: -15 , Steps : 15\n",
      "Episode: 6000 , Total Reward: -332 , Steps : 35\n",
      "Episode: 7000 , Total Reward: -15 , Steps : 15\n",
      "Episode: 8000 , Total Reward: -13 , Steps : 13\n",
      "Episode: 9000 , Total Reward: -17 , Steps : 17\n",
      "Episode: 10000 , Total Reward: -15 , Steps: 15\n"
     ]
    }
   ],
   "source": [
    "import numpy as np\n",
    "q_table = np.zeros([myenv.observation_space.n, myenv.action_space.n]) \n",
    "G = 0\n",
    "learning_rate = 0.1\n",
    "discount_factor = 0.5\n",
    "exploration = 0.1\n",
    "epochs = 10000\n",
    "trip_lengths = []\n",
    "\n",
    "for episode in range(epochs):\n",
    "    state = myenv.reset()\n",
    "    done = False\n",
    "    G = 0\n",
    "    steps = 0\n",
    "\n",
    "    while not done :\n",
    "        steps += 1\n",
    "        random_value = random.uniform(0, 1)\n",
    "\n",
    "        if random_value < exploration:\n",
    "            action = myenv.action_space.sample()  # Explore a random action\n",
    "        else:\n",
    "            action = np.argmax(q_table[state])  # Return the action with the highest q-value\n",
    "\n",
    "        next_state, reward, done, info = myenv.step(action)  # Perform the chosen action\n",
    "\n",
    "        prev_q = q_table[state, action]\n",
    "        next_max_q = np.max(q_table[next_state])\n",
    "        new_q = (1 - learning_rate) * prev_q + learning_rate * (reward + discount_factor * next_max_q)\n",
    "        G += reward\n",
    "        q_table[state, action] = new_q\n",
    "        state = next_state\n",
    "    if episode % 1000 == 0:\n",
    "        print(\"Episode:\", episode,\", Total Reward:\", G ,\", Steps :\", steps)\n",
    "if epochs % 1000 == 0:\n",
    "    print(\"Episode:\", epochs, \", Total Reward:\", G, \", Steps:\", steps)"
   ]
  },
  {
   "cell_type": "markdown",
   "id": "4abb9183",
   "metadata": {},
   "source": [
    "### Testing and Evaluation"
   ]
  },
  {
   "cell_type": "code",
   "execution_count": 5,
   "id": "1a9bb580",
   "metadata": {
    "scrolled": true
   },
   "outputs": [
    {
     "name": "stdout",
     "output_type": "stream",
     "text": [
      "Episode: 10 Step: 13\n",
      "o  o  o  o  o  o  o  o  o  o  o  o\n",
      "o  o  o  o  o  o  o  o  o  o  o  o\n",
      "o  o  o  o  o  o  o  o  o  o  o  o\n",
      "o  C  C  C  C  C  C  C  C  C  C  x\n",
      "\n",
      "Current state: 35\n",
      "Chosen action: 2\n",
      "Average Rewards: -13.0\n",
      "Average Steps: 13.0\n"
     ]
    }
   ],
   "source": [
    "from IPython.display import clear_output\n",
    "from time import sleep\n",
    "\n",
    "num_episodes = 10\n",
    "total_rewards = 0\n",
    "total_steps = 0\n",
    "\n",
    "for episode in range(num_episodes):\n",
    "    state = myenv.reset()\n",
    "    done = False\n",
    "    steps = 0\n",
    "    rewards = 0\n",
    "\n",
    "    while not done and steps < 25:\n",
    "        action = np.argmax(q_table[state])\n",
    "        next_state, reward, done, info = myenv.step(action)\n",
    "\n",
    "        clear_output(wait=True)\n",
    "        print(\"Episode:\", episode + 1, \"Step:\", steps + 1)\n",
    "        print(myenv.render(mode='ansi'), end=\"\\r\")  # Use end=\"\\r\" to overwrite the previous output\n",
    "        print(\"Current state:\", state)  # Print the current state\n",
    "        print(\"Chosen action:\", action)  # Print the chosen action\n",
    "        sleep(.2)\n",
    "        \n",
    "        state = next_state\n",
    "        steps += 1\n",
    "        rewards += reward\n",
    "\n",
    "    total_rewards += rewards\n",
    "    total_steps += steps\n",
    "\n",
    "average_rewards = total_rewards / num_episodes\n",
    "average_steps = total_steps / num_episodes\n",
    "\n",
    "print(\"Average Rewards:\", average_rewards)\n",
    "print(\"Average Steps:\", average_steps)\n"
   ]
  },
  {
   "cell_type": "markdown",
   "id": "59018d9d",
   "metadata": {},
   "source": [
    "                                                                                                  Hala Khalifeh"
   ]
  }
 ],
 "metadata": {
  "kernelspec": {
   "display_name": "Python 3 (ipykernel)",
   "language": "python",
   "name": "python3"
  },
  "language_info": {
   "codemirror_mode": {
    "name": "ipython",
    "version": 3
   },
   "file_extension": ".py",
   "mimetype": "text/x-python",
   "name": "python",
   "nbconvert_exporter": "python",
   "pygments_lexer": "ipython3",
   "version": "3.9.12"
  }
 },
 "nbformat": 4,
 "nbformat_minor": 5
}
